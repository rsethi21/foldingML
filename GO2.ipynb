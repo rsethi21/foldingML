{
  "cells": [
    {
      "cell_type": "markdown",
      "metadata": {
        "id": "view-in-github",
        "colab_type": "text"
      },
      "source": [
        "<a href=\"https://colab.research.google.com/github/rsethi21/foldingML/blob/main/GO2.ipynb\" target=\"_parent\"><img src=\"https://colab.research.google.com/assets/colab-badge.svg\" alt=\"Open In Colab\"/></a>"
      ]
    },
    {
      "cell_type": "markdown",
      "metadata": {
        "id": "ce6z90tJHO5R"
      },
      "source": [
        "https://journals.plos.org/plosone/article?id=10.1371/journal.pone.0069573"
      ]
    },
    {
      "cell_type": "markdown",
      "metadata": {
        "id": "o94CFcUa-OFk"
      },
      "source": [
        "# Fit Data"
      ]
    },
    {
      "cell_type": "code",
      "execution_count": 1,
      "metadata": {
        "id": "LEpvFtEm-RI2"
      },
      "outputs": [],
      "source": [
        "data = {\n",
        "  \"1\": {\n",
        "    \"450\": 1.0,\n",
        "\n",
        "    \"1950\": 0.2,\n",
        "\n",
        "    \"2110\": 0.8,\n",
        "  },\n",
        "  \"2\": {\n",
        "    \"450\": 1.0,\n",
        "\n",
        "    \"1950\": 0.6,\n",
        "\n",
        "    \"2110\": 1.4,\n",
        "\n",
        "  },\n",
        "  \"7\": {\n",
        "    \"450\": 1.0,\n",
        "\n",
        "    \"1950\": 0.7,\n",
        "\n",
        "    \"2110\": 1.1,\n",
        "  }\n",
        "}"
      ]
    },
    {
      "cell_type": "markdown",
      "metadata": {
        "id": "yb9MAPiJ9d3q"
      },
      "source": [
        "# Imports"
      ]
    },
    {
      "cell_type": "code",
      "execution_count": 2,
      "metadata": {
        "id": "nAgGHzs8YSnu",
        "colab": {
          "base_uri": "https://localhost:8080/"
        },
        "outputId": "e967f97a-64b0-4807-8c93-0f09d3a735c8"
      },
      "outputs": [
        {
          "output_type": "stream",
          "name": "stdout",
          "text": [
            "Collecting geneticalgorithm2\n",
            "  Downloading geneticalgorithm2-6.8.5-py3-none-any.whl (51 kB)\n",
            "\u001b[?25l     \u001b[90m━━━━━━━━━━━━━━━━━━━━━━━━━━━━━━━━━━━━━━━━\u001b[0m \u001b[32m0.0/51.6 kB\u001b[0m \u001b[31m?\u001b[0m eta \u001b[36m-:--:--\u001b[0m\r\u001b[2K     \u001b[90m━━━━━━━━━━━━━━━━━━━━━━━━━━━━━━━━━━━━━━━━\u001b[0m \u001b[32m51.6/51.6 kB\u001b[0m \u001b[31m5.6 MB/s\u001b[0m eta \u001b[36m0:00:00\u001b[0m\n",
            "\u001b[?25hRequirement already satisfied: numpy in /usr/local/lib/python3.10/dist-packages (from geneticalgorithm2) (1.22.4)\n",
            "Requirement already satisfied: matplotlib in /usr/local/lib/python3.10/dist-packages (from geneticalgorithm2) (3.7.1)\n",
            "Requirement already satisfied: typing-extensions in /usr/local/lib/python3.10/dist-packages (from geneticalgorithm2) (4.7.1)\n",
            "Collecting OppOpPopInit>=2.0.1 (from geneticalgorithm2)\n",
            "  Downloading OppOpPopInit-2.0.1-py3-none-any.whl (15 kB)\n",
            "Requirement already satisfied: contourpy>=1.0.1 in /usr/local/lib/python3.10/dist-packages (from matplotlib->geneticalgorithm2) (1.1.0)\n",
            "Requirement already satisfied: cycler>=0.10 in /usr/local/lib/python3.10/dist-packages (from matplotlib->geneticalgorithm2) (0.11.0)\n",
            "Requirement already satisfied: fonttools>=4.22.0 in /usr/local/lib/python3.10/dist-packages (from matplotlib->geneticalgorithm2) (4.40.0)\n",
            "Requirement already satisfied: kiwisolver>=1.0.1 in /usr/local/lib/python3.10/dist-packages (from matplotlib->geneticalgorithm2) (1.4.4)\n",
            "Requirement already satisfied: packaging>=20.0 in /usr/local/lib/python3.10/dist-packages (from matplotlib->geneticalgorithm2) (23.1)\n",
            "Requirement already satisfied: pillow>=6.2.0 in /usr/local/lib/python3.10/dist-packages (from matplotlib->geneticalgorithm2) (8.4.0)\n",
            "Requirement already satisfied: pyparsing>=2.3.1 in /usr/local/lib/python3.10/dist-packages (from matplotlib->geneticalgorithm2) (3.1.0)\n",
            "Requirement already satisfied: python-dateutil>=2.7 in /usr/local/lib/python3.10/dist-packages (from matplotlib->geneticalgorithm2) (2.8.2)\n",
            "Requirement already satisfied: six>=1.5 in /usr/local/lib/python3.10/dist-packages (from python-dateutil>=2.7->matplotlib->geneticalgorithm2) (1.16.0)\n",
            "Installing collected packages: OppOpPopInit, geneticalgorithm2\n",
            "Successfully installed OppOpPopInit-2.0.1 geneticalgorithm2-6.8.5\n"
          ]
        }
      ],
      "source": [
        "!pip install geneticalgorithm2"
      ]
    },
    {
      "cell_type": "code",
      "execution_count": 3,
      "metadata": {
        "id": "wgGFFa4qckp8"
      },
      "outputs": [],
      "source": [
        "import matplotlib.pyplot as plt\n",
        "import numpy as np\n",
        "from scipy.integrate import odeint\n",
        "from scipy import misc\n",
        "import pandas\n",
        "from geneticalgorithm2 import geneticalgorithm2 as ga\n",
        "import json\n",
        "import argparse\n",
        "import warnings"
      ]
    },
    {
      "cell_type": "markdown",
      "metadata": {
        "id": "1EUw26-gY6jn"
      },
      "source": [
        "# Genetic algorithm fitting"
      ]
    },
    {
      "cell_type": "markdown",
      "metadata": {
        "id": "O2q7c9gz8ved"
      },
      "source": [
        "## Function with Goodwin Oscillator"
      ]
    },
    {
      "cell_type": "code",
      "execution_count": 4,
      "metadata": {
        "id": "68RSnCNtdLNa"
      },
      "outputs": [],
      "source": [
        "def simulation_fn(y,t,K,lps=None,hdaci=None):\n",
        "  Akt, pAkt, pPTEN, PTEN, PIP2, PIP3, PI3K, GSK3B, pGSK3B, LPS, HDACi = y\n",
        "## rate constants:\n",
        "\n",
        "  k1 = K[0]\n",
        "  k2 = K[1]\n",
        "  k5 = K[2]\n",
        "  k6 = K[3]\n",
        "  k7 = K[4]\n",
        "  k8 = K[5]\n",
        "  k9 = K[6]\n",
        "  k10 = K[7]\n",
        "  i1 = K[8]\n",
        "  i2 = K[15]\n",
        "  Km1 = K[9]\n",
        "  n1 = K[12]\n",
        "  Km2 = K[10]\n",
        "  n2 = K[13]\n",
        "  Km3 = K[11]\n",
        "  n3 = K[14]\n",
        "  k3 = 1\n",
        "  k4 = 1\n",
        "\n",
        "## Differential Equations: ask which one is more accurate\n",
        "\n",
        "  dPI3Kdt = k3-k4*PI3K\n",
        "\n",
        "  dPIP2dt = k6*PIP3 - k5*PIP2*PI3K*((Km1**n1)/(Km1**n1 + PTEN**n1))\n",
        "  dPIP3dt = -k6*PIP3 + k5*PIP2*PI3K*((Km1**n1)/(Km1**n1 + PTEN**n1))\n",
        "\n",
        "  dAktdt = k2*pAkt - k1*((PIP3**2)/(1 + PIP3**2))*Akt\n",
        "  dpAktdt = -k2*pAkt + k1*((PIP3**2)/(1 + PIP3**2))*Akt\n",
        "\n",
        "  dPTENdt = k7*pPTEN*((Km2**n2)/(Km2**n2+ GSK3B**n2)) - k8*PTEN + i1*LPS\n",
        "  dpPTENdt = -k7*pPTEN*((Km2**n2)/(Km2**n2+ GSK3B**n2)) + k8*PTEN - i1*LPS\n",
        "\n",
        "  dGSK3Bdt = k9*pGSK3B*((Km3**n3)/(Km3**n3+ pAkt**n3)) - k10*GSK3B + i2*HDACi\n",
        "  dpGSK3Bdt = -k9*pGSK3B*((Km3**n3)/(Km3**n3+ pAkt**n3)) + k10*GSK3B - i2*HDACi\n",
        "\n",
        "  dLPSdt = 0\n",
        "  dHDACidt = 0\n",
        "\n",
        "  if lps != None:\n",
        "\n",
        "    if lps[2] <= t < lps[3]:\n",
        "      dLPSdt = lps[1] - LPS\n",
        "    elif t < lps[2]:\n",
        "      dLPSdt = 0\n",
        "    else:\n",
        "      dLPSdt = -LPS\n",
        "\n",
        "  if hdaci != None:\n",
        "    if hdaci[2] <= t < hdaci[3]:\n",
        "      dHDACidt = hdaci[1] - HDACi\n",
        "    elif t < hdaci[2]:\n",
        "      dHDACidt = 0\n",
        "    else:\n",
        "      dHDACidt = -HDACi\n",
        "\n",
        "  dydt = [dAktdt, dpAktdt, dpPTENdt, dPTENdt, dPIP2dt, dPIP3dt, dPI3Kdt, dGSK3Bdt, dpGSK3Bdt, dLPSdt, dHDACidt]\n",
        "  return dydt"
      ]
    },
    {
      "cell_type": "code",
      "execution_count": 5,
      "metadata": {
        "id": "3w7SajR1vxtO"
      },
      "outputs": [],
      "source": [
        "def findSteadyState(arr, times):\n",
        "\n",
        "  def f(t):\n",
        "    return arr[t, :]\n",
        "\n",
        "  steadyTime = times[-1]\n",
        "\n",
        "  for time in times:\n",
        "    deriv = misc.derivative(f, time, dx = 1)\n",
        "    for d in deriv:\n",
        "      if d < 10**-4:\n",
        "        steadyTime = time\n",
        "      else:\n",
        "        steadyTime = times[-1]\n",
        "        break\n",
        "\n",
        "    if steadyTime != times[-1]:\n",
        "      return steadyTime\n",
        "    else:\n",
        "      continue\n",
        "\n",
        "    return steadyTime"
      ]
    },
    {
      "cell_type": "markdown",
      "metadata": {
        "id": "i5nUvTUNjrwW"
      },
      "source": [
        "## Apply"
      ]
    },
    {
      "cell_type": "code",
      "execution_count": 21,
      "metadata": {
        "id": "_CylGOBoNEsZ",
        "colab": {
          "base_uri": "https://localhost:8080/"
        },
        "outputId": "b3637ebb-03a6-48ef-997c-ee6bfb5b0bb8"
      },
      "outputs": [
        {
          "output_type": "stream",
          "name": "stdout",
          "text": [
            "76\n"
          ]
        },
        {
          "output_type": "stream",
          "name": "stderr",
          "text": [
            "<ipython-input-5-f740f207bd81>:9: DeprecationWarning: scipy.misc.derivative is deprecated in SciPy v1.10.0; and will be completely removed in SciPy v1.12.0. You may consider using findiff: https://github.com/maroba/findiff or numdifftools: https://github.com/pbrod/numdifftools\n",
            "  deriv = misc.derivative(f, time, dx = 1)\n"
          ]
        }
      ],
      "source": [
        "\n",
        "\n",
        "time = np.linspace(0, 4000, 4000)\n",
        "yi = np.array([1, 0, 0, 1, 1, 0, 1, 1, 0, 0, 0], dtype=\"float\")\n",
        "y = odeint(simulation_fn, yi, time, args=(best_params, None, None))\n",
        "steady = list(y[findSteadyState(y, [i for i in range(0, 3999)]), :])\n",
        "y2 = odeint(simulation_fn, steady, time, args=(best_params, (True, 1.0, 500, 1940), (True, 1.0, 2000, 2120)))\n",
        "\n",
        "print(findSteadyState(y, [i for i in range(0, 3999)]))\n",
        "\n",
        "y2[:, 0:9] = y2[:, 0:9]/steady[0:9]"
      ]
    },
    {
      "cell_type": "code",
      "execution_count": 23,
      "metadata": {
        "id": "qRiamm0zNw2w",
        "colab": {
          "base_uri": "https://localhost:8080/",
          "height": 408
        },
        "outputId": "dcbfb0d5-d150-431d-bd66-80b3569e7590"
      },
      "outputs": [
        {
          "output_type": "execute_result",
          "data": {
            "text/plain": [
              "<matplotlib.legend.Legend at 0x7f1885872bc0>"
            ]
          },
          "metadata": {},
          "execution_count": 23
        },
        {
          "output_type": "display_data",
          "data": {
            "text/plain": [
              "<Figure size 600x400 with 1 Axes>"
            ],
            "image/png": "[encoded data removed]"
          },
          "metadata": {}
        }
      ],
      "source": [
        "plt.figure(figsize=(6,4),dpi=100)\n",
        "plt.xlim(1900, 2200)\n",
        "plt.plot(time,y2[:,1],'r-',label='pAkt')\n",
        "plt.plot(time,y2[:,2],'y-',label='pPTEN')\n",
        "plt.plot(time,y2[:,6],'k-',label='PI3K')\n",
        "plt.plot(time,y2[:,7],'m-',label='GSK3B')\n",
        "plt.plot(time,y2[:,9],'g-',label='LPS')\n",
        "plt.plot(time,y2[:,10],'b-',label='HDACi')\n",
        "\n",
        "plt.tick_params(direction='in',labelsize=12)\n",
        "plt.xlabel('Time [mins]',fontsize=12)\n",
        "plt.ylabel('Folds of Concentration',fontsize=12)\n",
        "plt.legend(loc='upper right',fontsize=5)"
      ]
    },
    {
      "cell_type": "markdown",
      "metadata": {
        "id": "LEbl7QP8joiA"
      },
      "source": [
        "## Fitting"
      ]
    },
    {
      "cell_type": "code",
      "execution_count": 11,
      "metadata": {
        "id": "oTjXBlAWdgLw"
      },
      "outputs": [],
      "source": [
        "def predictions(simulation_fn, K):\n",
        "  time = np.linspace(0, 4000, 4000)\n",
        "\n",
        "  yi = np.array([1, 0, 0, 1, 1, 0, 1, 1, 0, 0, 0], dtype=\"float\")\n",
        "  y = odeint(simulation_fn, yi, time, args=(K, None, None))\n",
        "  steady = list(y[findSteadyState(y, [i for i in range(0, 3999)]), :])\n",
        "  newy = odeint(simulation_fn, steady, time, args=(K, (True, 1.0, 500, 1940), (True, 1.0, 2000, 2120)))\n",
        "\n",
        "  newy[:, 0:9] = newy[:, 0:9]/steady[0:9]\n",
        "\n",
        "  return newy"
      ]
    },
    {
      "cell_type": "code",
      "execution_count": 12,
      "metadata": {
        "id": "mRdDxMnOY5r5"
      },
      "outputs": [],
      "source": [
        "def obj_fn(X):\n",
        "\n",
        "  expl_data = data\n",
        "  cost = 0\n",
        "  count = 0\n",
        "  pred = predictions(simulation_fn, X)\n",
        "  for proteinID, information in expl_data.items():\n",
        "    for time, value in information.items():\n",
        "      cost += (pred[int(time), int(proteinID)] - float(value))**2\n",
        "      count += 1\n",
        "\n",
        "  return float(cost)/count"
      ]
    },
    {
      "cell_type": "code",
      "execution_count": 13,
      "metadata": {
        "id": "Cwm7KJ3jeC5Y"
      },
      "outputs": [],
      "source": [
        "varbound = np.array([[0.01,1]]*8 + [[0.001, 0.1]] + [[0.01, 1]]*3+ [[1, 8]]*3 + [[0.001, 0.1]])\n",
        "\n",
        "algorithm_param = {'max_num_iteration': 30,\\\n",
        "                   'population_size':50,\\\n",
        "                   'mutation_probability':0.1,\\\n",
        "                   'elit_ratio': 0.01,\\\n",
        "                   'crossover_probability': 0.5,\\\n",
        "                   'parents_portion': 0.3,\\\n",
        "                   'crossover_type':'uniform',\\\n",
        "                   'max_iteration_without_improv': 25}"
      ]
    },
    {
      "cell_type": "code",
      "execution_count": 14,
      "metadata": {
        "id": "SLm3aIVkah_4"
      },
      "outputs": [],
      "source": [
        "model=ga(function=obj_fn,\\\n",
        "            dimension=16,\\\n",
        "            variable_type_mixed=('real', 'real', 'real', 'real', 'real', 'real', 'real', 'real', 'real', 'real', 'real', 'real', 'int', 'int', 'int', 'real'),\\\n",
        "            variable_boundaries=varbound,\\\n",
        "            algorithm_parameters=algorithm_param)"
      ]
    },
    {
      "cell_type": "code",
      "execution_count": 15,
      "metadata": {
        "colab": {
          "base_uri": "https://localhost:8080/",
          "height": 1000
        },
        "id": "bLuFvRGNa0Gl",
        "outputId": "baa7ec79-02e9-4521-8c26-10496e68646b"
      },
      "outputs": [
        {
          "output_type": "stream",
          "name": "stdout",
          "text": [
            "\n",
            "Set: Average time of function evaluating (secs): 0.14943353652954103 (total = 7.471676826477051)\n",
            "\n",
            "Best score before optimization: 0.047292925618510874\n",
            "                                                                                                                                                                                                        \n",
            " The best found solution:\n",
            " [0.16667895 0.67607308 0.07405058 0.11688849 0.11757552 0.06348209\n",
            " 0.58542863 0.82115276 0.0442021  0.61777582 0.34654988 0.87547098\n",
            " 4.         8.         8.         0.07657945]\n",
            "\n",
            " Objective function:\n",
            " 0.02610446968578294\n",
            "\n",
            " Used generations: 30\n",
            " Used time: 79.1 seconds\n"
          ]
        },
        {
          "output_type": "display_data",
          "data": {
            "text/plain": [
              "<Figure size 640x480 with 1 Axes>"
            ],
            "image/png": "[encoded data removed]"
          },
          "metadata": {}
        },
        {
          "output_type": "execute_result",
          "data": {
            "text/plain": [
              "GAResult(last_generation=Generation(variables=array([[0.16667895, 0.67607308, 0.07405058, 0.11688849, 0.11757552,\n",
              "        0.06348209, 0.58542863, 0.82115276, 0.0442021 , 0.61777582,\n",
              "        0.34654988, 0.87547098, 4.        , 8.        , 8.        ,\n",
              "        0.07657945],\n",
              "       [0.12854526, 0.67607308, 0.77198307, 0.72752462, 0.61607311,\n",
              "        0.06348209, 0.58542863, 0.82115276, 0.09182975, 0.61777582,\n",
              "        0.30427009, 0.87547098, 4.        , 8.        , 4.        ,\n",
              "        0.09813379],\n",
              "       [0.16667895, 0.67607308, 0.07405058, 0.11688849, 0.11757552,\n",
              "        0.06348209, 0.58542863, 0.82115276, 0.0442021 , 0.61777582,\n",
              "        0.34654988, 0.87547098, 7.        , 1.        , 8.        ,\n",
              "        0.07657945],\n",
              "       [0.16667895, 0.67607308, 0.07405058, 0.11688849, 0.11757552,\n",
              "        0.06348209, 0.58542863, 0.82115276, 0.07571102, 0.44938049,\n",
              "        0.34654988, 0.82928249, 3.        , 1.        , 4.        ,\n",
              "        0.07724197],\n",
              "       [0.5637657 , 0.54090038, 0.09933939, 0.73864132, 0.11881687,\n",
              "        0.06348209, 0.74297725, 0.82115276, 0.07998416, 0.61777582,\n",
              "        0.34654988, 0.16127915, 2.        , 8.        , 1.        ,\n",
              "        0.07724197],\n",
              "       [0.16667895, 0.67607308, 0.07405058, 0.11688849, 0.11757552,\n",
              "        0.06348209, 0.58542863, 0.82115276, 0.0442021 , 0.75089156,\n",
              "        0.34654988, 0.87547098, 4.        , 8.        , 8.        ,\n",
              "        0.07657945],\n",
              "       [0.16667895, 0.0763116 , 0.11308184, 0.46712127, 0.11757552,\n",
              "        0.06348209, 0.58542863, 0.75595348, 0.08067008, 0.75089156,\n",
              "        0.57570608, 0.82928249, 2.        , 5.        , 4.        ,\n",
              "        0.09899321],\n",
              "       [0.16667895, 0.50777753, 0.07405058, 0.11688849, 0.11881687,\n",
              "        0.06348209, 0.58542863, 0.82115276, 0.0442021 , 0.67808729,\n",
              "        0.55130538, 0.87547098, 5.        , 1.        , 1.        ,\n",
              "        0.07657945],\n",
              "       [0.5637657 , 0.67607308, 0.32328916, 0.92109393, 0.11757552,\n",
              "        0.06348209, 0.69146143, 0.82115276, 0.0442021 , 0.64445582,\n",
              "        0.34654988, 0.87547098, 4.        , 5.        , 5.        ,\n",
              "        0.08748782],\n",
              "       [0.19055837, 0.66107438, 0.32328916, 0.73864132, 0.30054648,\n",
              "        0.06348209, 0.69146143, 0.82115276, 0.0442021 , 0.64445582,\n",
              "        0.22098834, 0.87547098, 4.        , 5.        , 5.        ,\n",
              "        0.06946957],\n",
              "       [0.15336071, 0.67607308, 0.07405058, 0.46712127, 0.61607311,\n",
              "        0.06348209, 0.58542863, 0.75595348, 0.03341385, 0.75089156,\n",
              "        0.30427009, 0.87547098, 2.        , 8.        , 5.        ,\n",
              "        0.09813379],\n",
              "       [0.62452372, 0.67607308, 0.07405058, 0.73864132, 0.11757552,\n",
              "        0.06348209, 0.58542863, 0.82115276, 0.0442021 , 0.67808729,\n",
              "        0.48425062, 0.87547098, 4.        , 8.        , 5.        ,\n",
              "        0.07657945],\n",
              "       [0.1882891 , 0.66107438, 0.32328916, 0.11688849, 0.09033302,\n",
              "        0.06348209, 0.58542863, 0.82115276, 0.0442021 , 0.64445582,\n",
              "        0.22098834, 0.87547098, 5.        , 5.        , 8.        ,\n",
              "        0.07657945],\n",
              "       [0.16667895, 0.67607308, 0.07405058, 0.46712127, 0.11757552,\n",
              "        0.06348209, 0.23718026, 0.75595348, 0.03341385, 0.75089156,\n",
              "        0.34654988, 0.83749703, 2.        , 5.        , 8.        ,\n",
              "        0.07724197],\n",
              "       [0.16667895, 0.67607308, 0.07405058, 0.46712127, 0.11757552,\n",
              "        0.06348209, 0.23718026, 0.75595348, 0.03341385, 0.75089156,\n",
              "        0.34654988, 0.83749703, 2.        , 5.        , 8.        ,\n",
              "        0.07724197],\n",
              "       [0.16667895, 0.67607308, 0.07405058, 0.46712127, 0.11757552,\n",
              "        0.06348209, 0.23718026, 0.75595348, 0.03341385, 0.75089156,\n",
              "        0.34654988, 0.83749703, 2.        , 5.        , 8.        ,\n",
              "        0.07724197],\n",
              "       [0.16667895, 0.67607308, 0.07405058, 0.46712127, 0.11757552,\n",
              "        0.06348209, 0.23718026, 0.75595348, 0.03341385, 0.75089156,\n",
              "        0.34654988, 0.83749703, 2.        , 5.        , 8.        ,\n",
              "        0.07724197],\n",
              "       [0.16667895, 0.67607308, 0.07405058, 0.46712127, 0.11757552,\n",
              "        0.06348209, 0.23718026, 0.75595348, 0.03341385, 0.61777582,\n",
              "        0.34654988, 0.83749703, 1.        , 5.        , 8.        ,\n",
              "        0.0683609 ],\n",
              "       [0.16667895, 0.67607308, 0.07405058, 0.46712127, 0.11757552,\n",
              "        0.06348209, 0.23718026, 0.46635886, 0.03341385, 0.75089156,\n",
              "        0.43323683, 0.83749703, 2.        , 5.        , 8.        ,\n",
              "        0.07724197],\n",
              "       [0.12854526, 0.67607308, 0.32328916, 0.11688849, 0.98248581,\n",
              "        0.12024235, 0.58542863, 0.67431513, 0.0442021 , 0.6768335 ,\n",
              "        0.30427009, 0.87547098, 4.        , 8.        , 8.        ,\n",
              "        0.09813379],\n",
              "       [0.62452372, 0.2407143 , 0.07405058, 0.19775177, 0.11881687,\n",
              "        0.06868062, 0.74297725, 0.82115276, 0.03341385, 0.67808729,\n",
              "        0.55130538, 0.03067311, 5.        , 8.        , 1.        ,\n",
              "        0.07657945],\n",
              "       [0.5637657 , 0.67607308, 0.32328916, 0.11688849, 0.09033302,\n",
              "        0.06348209, 0.58542863, 0.06726705, 0.02242473, 0.64445582,\n",
              "        0.22098834, 0.87547098, 5.        , 7.        , 8.        ,\n",
              "        0.07657945],\n",
              "       [0.5637657 , 0.67607308, 0.09933939, 0.92109393, 0.11757552,\n",
              "        0.06348209, 0.23718026, 0.82115276, 0.02242473, 0.61777582,\n",
              "        0.34654988, 0.87547098, 2.        , 5.        , 8.        ,\n",
              "        0.08748782],\n",
              "       [0.16667895, 0.2407143 , 0.94419098, 0.46712127, 0.60231357,\n",
              "        0.06868062, 0.74297725, 0.82115276, 0.03341385, 0.61777582,\n",
              "        0.55130538, 0.03067311, 5.        , 5.        , 1.        ,\n",
              "        0.07657945],\n",
              "       [0.62452372, 0.67607308, 0.32328916, 0.11688849, 0.98248581,\n",
              "        0.35114844, 0.41447148, 0.82115276, 0.0442021 , 0.67808729,\n",
              "        0.34654988, 0.87547098, 4.        , 8.        , 8.        ,\n",
              "        0.07657945],\n",
              "       [0.62452372, 0.67607308, 0.0957992 , 0.45312471, 0.75191883,\n",
              "        0.06348209, 0.41447148, 0.88681292, 0.07571102, 0.67808729,\n",
              "        0.55130538, 0.87547098, 1.        , 5.        , 4.        ,\n",
              "        0.07724197],\n",
              "       [0.16667895, 0.67607308, 0.07405058, 0.46712127, 0.60231357,\n",
              "        0.06868062, 0.74297725, 0.75595348, 0.03341385, 0.61777582,\n",
              "        0.34654988, 0.83749703, 5.        , 5.        , 1.        ,\n",
              "        0.07724197],\n",
              "       [0.12985567, 0.67607308, 0.11308184, 0.11688849, 0.11757552,\n",
              "        0.58087583, 0.58542863, 0.82115276, 0.08067008, 0.67808729,\n",
              "        0.57570608, 0.82928249, 4.        , 8.        , 4.        ,\n",
              "        0.09899321],\n",
              "       [0.62452372, 0.546829  , 0.32328916, 0.73864132, 0.98248581,\n",
              "        0.06348209, 0.41447148, 0.82115276, 0.0442021 , 0.67808729,\n",
              "        0.57570608, 0.87547098, 4.        , 5.        , 5.        ,\n",
              "        0.09813379],\n",
              "       [0.16667895, 0.54090038, 0.07405058, 0.73864132, 0.60231357,\n",
              "        0.06868062, 0.74297725, 0.88681292, 0.03341385, 0.67808729,\n",
              "        0.57570608, 0.61635598, 5.        , 5.        , 1.        ,\n",
              "        0.07657945],\n",
              "       [0.19055837, 0.66107438, 0.09933939, 0.73864132, 0.30054648,\n",
              "        0.06348209, 0.23718026, 0.82115276, 0.02242473, 0.61777582,\n",
              "        0.86233447, 0.87547098, 2.        , 5.        , 8.        ,\n",
              "        0.06946957],\n",
              "       [0.62452372, 0.54090038, 0.07405058, 0.73864132, 0.11881687,\n",
              "        0.58087583, 0.74297725, 0.88681292, 0.0442021 , 0.67808729,\n",
              "        0.57570608, 0.61635598, 4.        , 8.        , 1.        ,\n",
              "        0.07724197],\n",
              "       [0.16667895, 0.67607308, 0.07405058, 0.11688849, 0.11757552,\n",
              "        0.43746786, 0.58542863, 0.82115276, 0.08067008, 0.61777582,\n",
              "        0.57570608, 0.82928249, 7.        , 1.        , 4.        ,\n",
              "        0.09899321],\n",
              "       [0.12985567, 0.67607308, 0.11308184, 0.11688849, 0.11757552,\n",
              "        0.58087583, 0.45213885, 0.82115276, 0.0442021 , 0.67808729,\n",
              "        0.34654988, 0.87547098, 4.        , 1.        , 8.        ,\n",
              "        0.07657945],\n",
              "       [0.44380378, 0.66107438, 0.09933939, 0.92109393, 0.0916062 ,\n",
              "        0.36307782, 0.23718026, 0.82115276, 0.04340578, 0.61777582,\n",
              "        0.23108875, 0.87547098, 5.        , 5.        , 8.        ,\n",
              "        0.08748782],\n",
              "       [0.62452372, 0.67607308, 0.53243078, 0.83714574, 0.61607311,\n",
              "        0.06348209, 0.41447148, 0.82115276, 0.09182975, 0.61777582,\n",
              "        0.34654988, 0.87547098, 4.        , 8.        , 4.        ,\n",
              "        0.07657945],\n",
              "       [0.16667895, 0.67607308, 0.77198307, 0.72752462, 0.11757552,\n",
              "        0.82739717, 0.23718026, 0.82115276, 0.09182975, 0.61777582,\n",
              "        0.34654988, 0.83749703, 4.        , 5.        , 4.        ,\n",
              "        0.07724197],\n",
              "       [0.16667895, 0.546829  , 0.32328916, 0.11688849, 0.98248581,\n",
              "        0.06348209, 0.41447148, 0.82115276, 0.0442021 , 0.61777582,\n",
              "        0.34654988, 0.87547098, 4.        , 5.        , 8.        ,\n",
              "        0.09813379],\n",
              "       [0.12985567, 0.67607308, 0.07405058, 0.11688849, 0.11757552,\n",
              "        0.58087583, 0.23718026, 0.82115276, 0.03341385, 0.67808729,\n",
              "        0.01607684, 0.83749703, 4.        , 5.        , 8.        ,\n",
              "        0.07724197],\n",
              "       [0.58449947, 0.67607308, 0.07405058, 0.92109393, 0.11817824,\n",
              "        0.58087583, 0.23718026, 0.85835203, 0.03176365, 0.67808729,\n",
              "        0.57570608, 0.61635598, 4.        , 5.        , 8.        ,\n",
              "        0.08748782],\n",
              "       [0.16667895, 0.67607308, 0.0957992 , 0.45312471, 0.75191883,\n",
              "        0.06348209, 0.58542863, 0.88681292, 0.07571102, 0.30334883,\n",
              "        0.55130538, 0.82928249, 3.        , 5.        , 4.        ,\n",
              "        0.07724197],\n",
              "       [0.16667895, 0.63467464, 0.32328916, 0.73864132, 0.98248581,\n",
              "        0.06348209, 0.58542863, 0.82115276, 0.0442021 , 0.30334883,\n",
              "        0.57570608, 0.82928249, 3.        , 5.        , 5.        ,\n",
              "        0.09740767],\n",
              "       [0.62452372, 0.67607308, 0.0957992 , 0.24297747, 0.98248581,\n",
              "        0.35114844, 0.58542863, 0.82115276, 0.0442021 , 0.30334883,\n",
              "        0.55130538, 0.87547098, 3.        , 5.        , 4.        ,\n",
              "        0.07657945],\n",
              "       [0.62430204, 0.67607308, 0.0957992 , 0.45312471, 0.75191883,\n",
              "        0.06348209, 0.58542863, 0.88681292, 0.0442021 , 0.30334883,\n",
              "        0.55130538, 0.58973356, 7.        , 5.        , 8.        ,\n",
              "        0.07798709],\n",
              "       [0.62452372, 0.2407143 , 0.94419098, 0.46712127, 0.11881687,\n",
              "        0.58087583, 0.74297725, 0.82115276, 0.0442021 , 0.61777582,\n",
              "        0.55130538, 0.03067311, 4.        , 8.        , 1.        ,\n",
              "        0.07724197],\n",
              "       [0.16667895, 0.47745947, 0.32328916, 0.53202964, 0.75191883,\n",
              "        0.06348209, 0.41447148, 0.88681292, 0.07571102, 0.67808729,\n",
              "        0.34654988, 0.82928249, 6.        , 8.        , 8.        ,\n",
              "        0.07724197],\n",
              "       [0.62452372, 0.03717862, 0.07405058, 0.19775177, 0.80634232,\n",
              "        0.06868062, 0.74297725, 0.82115276, 0.0442021 , 0.4701222 ,\n",
              "        0.55130538, 0.87547098, 5.        , 8.        , 1.        ,\n",
              "        0.07657945],\n",
              "       [0.62452372, 0.2407143 , 0.07405058, 0.19775177, 0.11757552,\n",
              "        0.06868062, 0.74212821, 0.82115276, 0.03341385, 0.61777582,\n",
              "        0.34654988, 0.03067311, 7.        , 8.        , 8.        ,\n",
              "        0.07657945],\n",
              "       [0.16667895, 0.2407143 , 0.07405058, 0.11688849, 0.11881687,\n",
              "        0.06348209, 0.58542863, 0.82115276, 0.03341385, 0.67808729,\n",
              "        0.34654988, 0.03067311, 7.        , 1.        , 8.        ,\n",
              "        0.07657945],\n",
              "       [0.16667895, 0.2407143 , 0.94419098, 0.63811392, 0.11757552,\n",
              "        0.06348209, 0.23718026, 0.82115276, 0.03341385, 0.75089156,\n",
              "        0.55130538, 0.03067311, 2.        , 5.        , 8.        ,\n",
              "        0.07657945]]), scores=array([2.61044697e-02, 2.70361268e-02, 3.43459012e-02, 3.61465222e-02,\n",
              "       3.73640001e-02, 3.94506786e-02, 4.01159572e-02, 4.01430889e-02,\n",
              "       4.14491781e-02, 5.44102960e-02, 6.85150442e-02, 7.56216011e-02,\n",
              "       8.19020395e-02, 9.18972135e-02, 9.18972135e-02, 9.18972135e-02,\n",
              "       9.18972135e-02, 9.27151870e-02, 9.85705937e-02, 9.90515195e-02,\n",
              "       1.06321764e-01, 1.07616780e-01, 1.10341866e-01, 1.10663807e-01,\n",
              "       1.13475542e-01, 1.17184252e-01, 1.18372932e-01, 1.19287630e-01,\n",
              "       1.19547026e-01, 1.20301634e-01, 1.20670053e-01, 1.20759329e-01,\n",
              "       1.21111760e-01, 1.21302004e-01, 1.22307333e-01, 1.23984325e-01,\n",
              "       1.24724222e-01, 1.27269389e-01, 1.27367251e-01, 1.29078142e-01,\n",
              "       1.35810041e-01, 1.36781480e-01, 1.40034139e-01, 1.57068292e-01,\n",
              "       3.73995099e-01, 3.96270084e-01, 2.14668649e+00, 7.82907069e+00,\n",
              "       1.21949678e+01, 5.63666341e+06])))"
            ]
          },
          "metadata": {},
          "execution_count": 15
        }
      ],
      "source": [
        "model.run(set_function=ga.set_function_multiprocess(obj_fn, n_jobs=-1))"
      ]
    },
    {
      "cell_type": "code",
      "execution_count": 19,
      "metadata": {
        "id": "2Qmxm03UPRVy"
      },
      "outputs": [],
      "source": [
        "best_params = model.result.variable"
      ]
    },
    {
      "cell_type": "code",
      "source": [
        "best_params"
      ],
      "metadata": {
        "colab": {
          "base_uri": "https://localhost:8080/"
        },
        "id": "O-79xXxwwsIg",
        "outputId": "2ebf230c-0a35-48ba-f0b0-5ebef90e11b8"
      },
      "execution_count": 20,
      "outputs": [
        {
          "output_type": "execute_result",
          "data": {
            "text/plain": [
              "array([0.16667895, 0.67607308, 0.07405058, 0.11688849, 0.11757552,\n",
              "       0.06348209, 0.58542863, 0.82115276, 0.0442021 , 0.61777582,\n",
              "       0.34654988, 0.87547098, 4.        , 8.        , 8.        ,\n",
              "       0.07657945])"
            ]
          },
          "metadata": {},
          "execution_count": 20
        }
      ]
    }
  ],
  "metadata": {
    "colab": {
      "collapsed_sections": [
        "o94CFcUa-OFk",
        "yb9MAPiJ9d3q",
        "LEbl7QP8joiA"
      ],
      "provenance": [],
      "authorship_tag": "ABX9TyPcrTz8fc7dUlob5Pespi64",
      "include_colab_link": true
    },
    "kernelspec": {
      "display_name": "Python 3",
      "name": "python3"
    },
    "language_info": {
      "name": "python"
    }
  },
  "nbformat": 4,
  "nbformat_minor": 0
}