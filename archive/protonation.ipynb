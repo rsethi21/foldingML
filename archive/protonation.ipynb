{
 "cells": [
  {
   "cell_type": "code",
   "execution_count": 1,
   "metadata": {},
   "outputs": [],
   "source": [
    "import pandas as pd\n",
    "import numpy as np"
   ]
  },
  {
   "cell_type": "markdown",
   "metadata": {},
   "source": [
    "Files were provided by Bin Sun "
   ]
  },
  {
   "cell_type": "code",
   "execution_count": 11,
   "metadata": {},
   "outputs": [],
   "source": [
    "#file = \"data/pH3_populations.dat\"\n",
    "file = \"data/pH7_populations.dat\""
   ]
  },
  {
   "cell_type": "markdown",
   "metadata": {},
   "source": [
    "Load and label"
   ]
  },
  {
   "cell_type": "code",
   "execution_count": 12,
   "metadata": {},
   "outputs": [],
   "source": [
    "df =pd.read_csv(file,sep=\"\\s+\",skiprows=7,header=None)"
   ]
  },
  {
   "cell_type": "code",
   "execution_count": 13,
   "metadata": {},
   "outputs": [],
   "source": [
    "df  = df.drop([0,2,4,6,8,10,12],axis=\"columns\")\n",
    "df = df.replace(np.nan, 0)"
   ]
  },
  {
   "cell_type": "markdown",
   "metadata": {},
   "source": [
    "Need to verify charge/protonation states \n",
    "<code>\n",
    "GL -1, 0, 1, 2.  ???\n",
    "AS -1, 0, 1, 2.  ???\n",
    "CS 0, 1\n",
    "</code>\n",
    "\n"
   ]
  },
  {
   "cell_type": "code",
   "execution_count": 14,
   "metadata": {},
   "outputs": [],
   "source": [
    "lookUp ={\n",
    "    'GL4': np.array([-1,0,1,2,3]),\n",
    "    'AS4': np.array([-1,0,1,2,3]),\n",
    "    'CYS': np.array([ 0,1,0,0,0])\n",
    "}\n",
    "v = df.iloc[0]\n"
   ]
  },
  {
   "cell_type": "code",
   "execution_count": null,
   "metadata": {},
   "outputs": [],
   "source": []
  },
  {
   "cell_type": "code",
   "execution_count": 15,
   "metadata": {},
   "outputs": [],
   "source": [
    "df.rename(columns={\n",
    "    1: 'res', \n",
    "    3: 'state0',\n",
    "    5: 'state1',\n",
    "    7: 'state2',    \n",
    "    9: 'state3',    \n",
    "    11: 'state4',    \n",
    "}, inplace=True)\n"
   ]
  },
  {
   "cell_type": "markdown",
   "metadata": {},
   "source": [
    "Add probabilities and charge"
   ]
  },
  {
   "cell_type": "code",
   "execution_count": 16,
   "metadata": {},
   "outputs": [],
   "source": [
    "def CalcAvgCharge(df,ar,res='GL4'):\n",
    "    dfss = df[ df['res'] == res ]\n",
    "\n",
    "    for index, row in dfss.iterrows():\n",
    "        values = row[['state0','state1','state2','state3','state4']].values  # different states \n",
    "        dotp = np.dot(values,lookUp[res])\n",
    "        #df[index]['charge']=dotp\n",
    "        ar[int(index)]=dotp\n",
    " \n",
    "    #print(ar)\n",
    "#df[ df[1] == \"GL4\" ]['charge'] =0   "
   ]
  },
  {
   "cell_type": "code",
   "execution_count": 17,
   "metadata": {},
   "outputs": [],
   "source": [
    "charges = np.zeros( len( df.index ) )    \n",
    "CalcAvgCharge(df,charges,res='GL4')\n",
    "CalcAvgCharge(df,charges,res='AS4')\n",
    "CalcAvgCharge(df,charges,res='CYS')\n",
    "\n",
    "df['charge'] = charges"
   ]
  },
  {
   "cell_type": "markdown",
   "metadata": {},
   "source": [
    "double check, since it might only be the total number, not total charge"
   ]
  },
  {
   "cell_type": "code",
   "execution_count": 18,
   "metadata": {},
   "outputs": [
    {
     "name": "stdout",
     "output_type": "stream",
     "text": [
      "WARNING: only for charged residues, not entire prot\n"
     ]
    }
   ],
   "source": [
    "tot = len( df.index )\n",
    "print(\"WARNING: only for charged residues, not entire prot\")\n",
    "dfss = df[ df['charge'] < 0 ]\n",
    "rhoNeg = dfss['charge'].sum() / tot\n",
    "\n",
    "dfss = df[ df['charge'] > 0 ]\n",
    "rhoPos = dfss['charge'].sum() / tot\n"
   ]
  },
  {
   "cell_type": "code",
   "execution_count": 19,
   "metadata": {},
   "outputs": [
    {
     "name": "stdout",
     "output_type": "stream",
     "text": [
      "-0.621903448275862 6.89655172413793e-08\n"
     ]
    }
   ],
   "source": [
    "print(rhoNeg,rhoPos)"
   ]
  },
  {
   "cell_type": "code",
   "execution_count": null,
   "metadata": {},
   "outputs": [],
   "source": []
  },
  {
   "cell_type": "code",
   "execution_count": null,
   "metadata": {},
   "outputs": [],
   "source": []
  },
  {
   "cell_type": "code",
   "execution_count": null,
   "metadata": {},
   "outputs": [],
   "source": []
  },
  {
   "cell_type": "code",
   "execution_count": null,
   "metadata": {},
   "outputs": [],
   "source": []
  }
 ],
 "metadata": {
  "kernelspec": {
   "display_name": "Python 3",
   "language": "python",
   "name": "python3"
  },
  "language_info": {
   "codemirror_mode": {
    "name": "ipython",
    "version": 3
   },
   "file_extension": ".py",
   "mimetype": "text/x-python",
   "name": "python",
   "nbconvert_exporter": "python",
   "pygments_lexer": "ipython3",
   "version": "3.8.3"
  }
 },
 "nbformat": 4,
 "nbformat_minor": 5
}
